{
 "cells": [
  {
   "cell_type": "markdown",
   "metadata": {},
   "source": [
    "# Import modules"
   ]
  },
  {
   "cell_type": "code",
   "execution_count": 319,
   "metadata": {},
   "outputs": [],
   "source": [
    "import pandas as pd\n",
    "import matplotlib.pyplot as plt\n",
    "import numpy as np\n",
    "import json"
   ]
  },
  {
   "cell_type": "markdown",
   "metadata": {},
   "source": [
    "### Support function"
   ]
  },
  {
   "cell_type": "code",
   "execution_count": 320,
   "metadata": {},
   "outputs": [],
   "source": [
    "# Reformat the date from y.d.m to m/y\n",
    "def reformat_date(video_list, feature_date='trending_date'):\n",
    "    \"\"\"\n",
    "    Reformat the date from y.d.m to d/m/Y for easy reading.\n",
    "\n",
    "    Args:\n",
    "        video_list (ndarray): The list of videos from one country.\n",
    "        feature_date (str): The name of the feature column containing the date (default: 'trending_date').\n",
    "\n",
    "    Returns:\n",
    "        video_list (ndarray): The list of videos from one country after reformatting.\n",
    "    \"\"\"\n",
    "    video_list[feature_date] = pd.to_datetime(video_list[feature_date], format='%y.%d.%m')\n",
    "    video_list[feature_date] = video_list[feature_date].dt.strftime('%m/%Y')\n",
    "    \n",
    "    return video_list\n",
    "\n",
    "# Identify the type of features\n",
    "def type_of_feature(video_list):\n",
    "    \"\"\"\n",
    "    Identify the type of features in the dataset.\n",
    "\n",
    "    Args:\n",
    "        video_list (ndarray): The list of videos from one country.\n",
    "\n",
    "    Returns:\n",
    "        list_of_type (object): The list of feature types.\n",
    "    \"\"\"\n",
    "    return video_list.dtypes\n",
    "\n",
    "# Count the unique records in feature\n",
    "def count_unique_records(video_list, feature_name):\n",
    "    \"\"\"\n",
    "    Count the unique records in a feature.\n",
    "\n",
    "    Args:\n",
    "        video_list (ndarray): The list of videos from one country.\n",
    "        feature_name (str): The name of the feature column in which to count unique records.\n",
    "\n",
    "    Returns:\n",
    "        df (DataFrame): The data frame of each unique record and its count.\n",
    "    \"\"\"\n",
    "    counts = video_list[feature_name].value_counts()\n",
    "\n",
    "    df = pd.DataFrame({\n",
    "        f'{feature_name}': counts.index.tolist(),\n",
    "        f'count_{feature_name}': counts.values.tolist(),\n",
    "    })\n",
    "    \n",
    "    df.sort_values(by=[f'count_{feature_name}'], ascending=True)\n",
    "    \n",
    "    return df\n",
    "\n",
    "# Mapping the category_id to its meaning\n",
    "def mapping_the_categoryID(video_list, category_list):\n",
    "    \"\"\"\n",
    "    Map category IDs to their corresponding meanings.\n",
    "\n",
    "    Args:\n",
    "        video_list (ndarray): A list of videos from one country.\n",
    "        category_list (dict): A dictionary mapping category IDs to their meanings for videos from one country.\n",
    "\n",
    "    Returns:\n",
    "        df (DataFrame): A DataFrame after mapping.\n",
    "    \"\"\"\n",
    "    category_id_dictionary = {}\n",
    "    for item in category_list['items']:\n",
    "        category_id_dictionary[f'{item['id']}'] = item['snippet']['title']\n",
    "\n",
    "    video_list['category_id'] = video_list['category_id'].astype(str).map(category_id_dictionary)\n",
    "    \n",
    "    video_list.rename(columns={\"category_id\": \"category_name\"}, inplace=True)"
   ]
  },
  {
   "cell_type": "markdown",
   "metadata": {},
   "source": [
    "### Cleaning the data"
   ]
  },
  {
   "cell_type": "code",
   "execution_count": 321,
   "metadata": {},
   "outputs": [
    {
     "data": {
      "text/html": [
       "<div>\n",
       "<style scoped>\n",
       "    .dataframe tbody tr th:only-of-type {\n",
       "        vertical-align: middle;\n",
       "    }\n",
       "\n",
       "    .dataframe tbody tr th {\n",
       "        vertical-align: top;\n",
       "    }\n",
       "\n",
       "    .dataframe thead th {\n",
       "        text-align: right;\n",
       "    }\n",
       "</style>\n",
       "<table border=\"1\" class=\"dataframe\">\n",
       "  <thead>\n",
       "    <tr style=\"text-align: right;\">\n",
       "      <th></th>\n",
       "      <th>video_id</th>\n",
       "      <th>trending_date</th>\n",
       "      <th>title</th>\n",
       "      <th>channel_title</th>\n",
       "      <th>category_name</th>\n",
       "      <th>publish_time</th>\n",
       "      <th>tags</th>\n",
       "      <th>views</th>\n",
       "      <th>likes</th>\n",
       "      <th>dislikes</th>\n",
       "      <th>comment_count</th>\n",
       "      <th>thumbnail_link</th>\n",
       "      <th>comments_disabled</th>\n",
       "      <th>ratings_disabled</th>\n",
       "      <th>video_error_or_removed</th>\n",
       "      <th>description</th>\n",
       "    </tr>\n",
       "  </thead>\n",
       "  <tbody>\n",
       "    <tr>\n",
       "      <th>0</th>\n",
       "      <td>n1WpP7iowLc</td>\n",
       "      <td>11/2017</td>\n",
       "      <td>Eminem - Walk On Water (Audio) ft. Beyoncé</td>\n",
       "      <td>EminemVEVO</td>\n",
       "      <td>Music</td>\n",
       "      <td>2017-11-10T17:00:03.000Z</td>\n",
       "      <td>Eminem|\"Walk\"|\"On\"|\"Water\"|\"Aftermath/Shady/In...</td>\n",
       "      <td>17158579</td>\n",
       "      <td>787425</td>\n",
       "      <td>43420</td>\n",
       "      <td>125882</td>\n",
       "      <td>https://i.ytimg.com/vi/n1WpP7iowLc/default.jpg</td>\n",
       "      <td>False</td>\n",
       "      <td>False</td>\n",
       "      <td>False</td>\n",
       "      <td>Eminem's new track Walk on Water ft. Beyoncé i...</td>\n",
       "    </tr>\n",
       "    <tr>\n",
       "      <th>1</th>\n",
       "      <td>0dBIkQ4Mz1M</td>\n",
       "      <td>11/2017</td>\n",
       "      <td>PLUSH - Bad Unboxing Fan Mail</td>\n",
       "      <td>iDubbbzTV</td>\n",
       "      <td>Comedy</td>\n",
       "      <td>2017-11-13T17:00:00.000Z</td>\n",
       "      <td>plush|\"bad unboxing\"|\"unboxing\"|\"fan mail\"|\"id...</td>\n",
       "      <td>1014651</td>\n",
       "      <td>127794</td>\n",
       "      <td>1688</td>\n",
       "      <td>13030</td>\n",
       "      <td>https://i.ytimg.com/vi/0dBIkQ4Mz1M/default.jpg</td>\n",
       "      <td>False</td>\n",
       "      <td>False</td>\n",
       "      <td>False</td>\n",
       "      <td>STill got a lot of packages. Probably will las...</td>\n",
       "    </tr>\n",
       "    <tr>\n",
       "      <th>2</th>\n",
       "      <td>5qpjK5DgCt4</td>\n",
       "      <td>11/2017</td>\n",
       "      <td>Racist Superman | Rudy Mancuso, King Bach &amp; Le...</td>\n",
       "      <td>Rudy Mancuso</td>\n",
       "      <td>Comedy</td>\n",
       "      <td>2017-11-12T19:05:24.000Z</td>\n",
       "      <td>racist superman|\"rudy\"|\"mancuso\"|\"king\"|\"bach\"...</td>\n",
       "      <td>3191434</td>\n",
       "      <td>146035</td>\n",
       "      <td>5339</td>\n",
       "      <td>8181</td>\n",
       "      <td>https://i.ytimg.com/vi/5qpjK5DgCt4/default.jpg</td>\n",
       "      <td>False</td>\n",
       "      <td>False</td>\n",
       "      <td>False</td>\n",
       "      <td>WATCH MY PREVIOUS VIDEO ▶ \\n\\nSUBSCRIBE ► http...</td>\n",
       "    </tr>\n",
       "  </tbody>\n",
       "</table>\n",
       "</div>"
      ],
      "text/plain": [
       "      video_id trending_date  \\\n",
       "0  n1WpP7iowLc       11/2017   \n",
       "1  0dBIkQ4Mz1M       11/2017   \n",
       "2  5qpjK5DgCt4       11/2017   \n",
       "\n",
       "                                               title channel_title  \\\n",
       "0         Eminem - Walk On Water (Audio) ft. Beyoncé    EminemVEVO   \n",
       "1                      PLUSH - Bad Unboxing Fan Mail     iDubbbzTV   \n",
       "2  Racist Superman | Rudy Mancuso, King Bach & Le...  Rudy Mancuso   \n",
       "\n",
       "  category_name              publish_time  \\\n",
       "0         Music  2017-11-10T17:00:03.000Z   \n",
       "1        Comedy  2017-11-13T17:00:00.000Z   \n",
       "2        Comedy  2017-11-12T19:05:24.000Z   \n",
       "\n",
       "                                                tags     views   likes  \\\n",
       "0  Eminem|\"Walk\"|\"On\"|\"Water\"|\"Aftermath/Shady/In...  17158579  787425   \n",
       "1  plush|\"bad unboxing\"|\"unboxing\"|\"fan mail\"|\"id...   1014651  127794   \n",
       "2  racist superman|\"rudy\"|\"mancuso\"|\"king\"|\"bach\"...   3191434  146035   \n",
       "\n",
       "   dislikes  comment_count                                  thumbnail_link  \\\n",
       "0     43420         125882  https://i.ytimg.com/vi/n1WpP7iowLc/default.jpg   \n",
       "1      1688          13030  https://i.ytimg.com/vi/0dBIkQ4Mz1M/default.jpg   \n",
       "2      5339           8181  https://i.ytimg.com/vi/5qpjK5DgCt4/default.jpg   \n",
       "\n",
       "   comments_disabled  ratings_disabled  video_error_or_removed  \\\n",
       "0              False             False                   False   \n",
       "1              False             False                   False   \n",
       "2              False             False                   False   \n",
       "\n",
       "                                         description  \n",
       "0  Eminem's new track Walk on Water ft. Beyoncé i...  \n",
       "1  STill got a lot of packages. Probably will las...  \n",
       "2  WATCH MY PREVIOUS VIDEO ▶ \\n\\nSUBSCRIBE ► http...  "
      ]
     },
     "execution_count": 321,
     "metadata": {},
     "output_type": "execute_result"
    }
   ],
   "source": [
    "# Take the Canada Videos as the example\n",
    "caVideo = pd.read_csv('./youtube_data/CAvideos.csv')\n",
    "caCategoryID_path = './youtube_data/CA_category_id.json'\n",
    "\n",
    "with open(caCategoryID_path, 'r') as file:\n",
    "    caCategoryID = json.load(file)\n",
    "\n",
    "reformat_date(caVideo)\n",
    "mapping_the_categoryID(caVideo, caCategoryID)\n",
    "\n",
    "caVideo.head(3)"
   ]
  },
  {
   "cell_type": "markdown",
   "metadata": {},
   "source": [
    "### Exploring the data"
   ]
  },
  {
   "cell_type": "code",
   "execution_count": 322,
   "metadata": {},
   "outputs": [
    {
     "data": {
      "text/plain": [
       "video_id                  object\n",
       "trending_date             object\n",
       "title                     object\n",
       "channel_title             object\n",
       "category_name             object\n",
       "publish_time              object\n",
       "tags                      object\n",
       "views                      int64\n",
       "likes                      int64\n",
       "dislikes                   int64\n",
       "comment_count              int64\n",
       "thumbnail_link            object\n",
       "comments_disabled           bool\n",
       "ratings_disabled            bool\n",
       "video_error_or_removed      bool\n",
       "description               object\n",
       "dtype: object"
      ]
     },
     "execution_count": 322,
     "metadata": {},
     "output_type": "execute_result"
    }
   ],
   "source": [
    "type_of_feature(caVideo)"
   ]
  },
  {
   "cell_type": "markdown",
   "metadata": {},
   "source": [
    "### Question 1: Who is the owner of the most trending videos on YouTube each month?"
   ]
  },
  {
   "cell_type": "code",
   "execution_count": 323,
   "metadata": {},
   "outputs": [
    {
     "name": "stdout",
     "output_type": "stream",
     "text": [
      "      trending_date          channel_title  count\n",
      "1149        01/2018        The Young Turks     29\n",
      "1664        02/2018                    CNN     28\n",
      "3100        03/2018                    CNN     31\n",
      "4574        04/2018                    CNN     24\n",
      "5952        05/2018                    CNN     31\n",
      "7264        06/2018     AlHayah TV Network     14\n",
      "8399        11/2017  Good Mythical Morning     17\n",
      "10295       12/2017              VikatanTV     31\n"
     ]
    }
   ],
   "source": [
    "# Group by 'trending_date' and 'channel_title' and get the size (count) of each group\n",
    "trending_owner_videos_each_month = caVideo.groupby(['trending_date', 'channel_title']).size().reset_index(name='count')\n",
    "\n",
    "# For each 'trending_date', find the row with the maximum count\n",
    "most_trending_owner_per_month = trending_owner_videos_each_month.loc[trending_owner_videos_each_month.groupby('trending_date')['count'].idxmax()]\n",
    "\n",
    "# Print the result\n",
    "print(most_trending_owner_per_month)"
   ]
  },
  {
   "cell_type": "code",
   "execution_count": 324,
   "metadata": {},
   "outputs": [
    {
     "data": {
      "image/png": "[encoded data removed]",
      "text/plain": [
       "<Figure size 640x480 with 1 Axes>"
      ]
     },
     "metadata": {},
     "output_type": "display_data"
    }
   ],
   "source": [
    "# Draw the bar chart\n",
    "bars = plt.bar(most_trending_owner_per_month['trending_date'], most_trending_owner_per_month['count'], color='r')\n",
    "\n",
    "# Set the y-axis limit\n",
    "plt.ylim(0, 40)\n",
    "\n",
    "# Add title and labels\n",
    "plt.title('The most trending videos on Youtube owner')\n",
    "plt.xlabel('Trending date')\n",
    "plt.ylabel('Count of Videos')\n",
    "\n",
    "# Rotate x-axis labels for better readability\n",
    "plt.xticks(rotation=90)\n",
    "\n",
    "for i, bar in enumerate(bars):\n",
    "    yval = bar.get_height()  # Get the height of the bar (the count)\n",
    "    plt.text(bar.get_x() + bar.get_width() / 2, yval + 0.5, most_trending_owner_per_month['channel_title'].iloc[i], \n",
    "             ha='center', va='bottom', fontsize=10, color='black')\n",
    "\n",
    "plt.show()"
   ]
  },
  {
   "cell_type": "markdown",
   "metadata": {},
   "source": [
    "In the Canada country:\n",
    "- In the last period of 2017, **Good Mythical Morning** and **Vikatan TV** respectively are the channel owning the most videos in the Youtube's trending in 11/2017 and 12/2017.\n",
    "- The channel **The Young Turks** is the channel has the highest number of trending videos on Youtube in 01/2018.\n",
    "- The channel **CNN** stands on top with the highest number of trending videos on Youtube from 02/2018 to 05/2018.\n",
    "- The channel **Alhayah TV Network** has over 10 videos which enter the trending board on Youtube in 06/2018."
   ]
  },
  {
   "cell_type": "markdown",
   "metadata": {},
   "source": [
    "### Question 2: What type of videos do people watch the most?"
   ]
  },
  {
   "cell_type": "code",
   "execution_count": 325,
   "metadata": {},
   "outputs": [
    {
     "data": {
      "text/html": [
       "<div>\n",
       "<style scoped>\n",
       "    .dataframe tbody tr th:only-of-type {\n",
       "        vertical-align: middle;\n",
       "    }\n",
       "\n",
       "    .dataframe tbody tr th {\n",
       "        vertical-align: top;\n",
       "    }\n",
       "\n",
       "    .dataframe thead th {\n",
       "        text-align: right;\n",
       "    }\n",
       "</style>\n",
       "<table border=\"1\" class=\"dataframe\">\n",
       "  <thead>\n",
       "    <tr style=\"text-align: right;\">\n",
       "      <th></th>\n",
       "      <th>['trending_date', 'category_name']</th>\n",
       "      <th>count_['trending_date', 'category_name']</th>\n",
       "    </tr>\n",
       "  </thead>\n",
       "  <tbody>\n",
       "    <tr>\n",
       "      <th>0</th>\n",
       "      <td>(01/2018, News &amp; Politics)</td>\n",
       "      <td>29</td>\n",
       "    </tr>\n",
       "    <tr>\n",
       "      <th>1</th>\n",
       "      <td>(02/2018, News &amp; Politics)</td>\n",
       "      <td>28</td>\n",
       "    </tr>\n",
       "    <tr>\n",
       "      <th>2</th>\n",
       "      <td>(03/2018, News &amp; Politics)</td>\n",
       "      <td>31</td>\n",
       "    </tr>\n",
       "    <tr>\n",
       "      <th>3</th>\n",
       "      <td>(04/2018, News &amp; Politics)</td>\n",
       "      <td>24</td>\n",
       "    </tr>\n",
       "    <tr>\n",
       "      <th>4</th>\n",
       "      <td>(05/2018, News &amp; Politics)</td>\n",
       "      <td>31</td>\n",
       "    </tr>\n",
       "    <tr>\n",
       "      <th>5</th>\n",
       "      <td>(06/2018, Entertainment)</td>\n",
       "      <td>13</td>\n",
       "    </tr>\n",
       "    <tr>\n",
       "      <th>6</th>\n",
       "      <td>(06/2018, News &amp; Politics)</td>\n",
       "      <td>1</td>\n",
       "    </tr>\n",
       "    <tr>\n",
       "      <th>7</th>\n",
       "      <td>(11/2017, Entertainment)</td>\n",
       "      <td>17</td>\n",
       "    </tr>\n",
       "    <tr>\n",
       "      <th>8</th>\n",
       "      <td>(12/2017, Shows)</td>\n",
       "      <td>21</td>\n",
       "    </tr>\n",
       "    <tr>\n",
       "      <th>9</th>\n",
       "      <td>(12/2017, Entertainment)</td>\n",
       "      <td>10</td>\n",
       "    </tr>\n",
       "  </tbody>\n",
       "</table>\n",
       "</div>"
      ],
      "text/plain": [
       "  ['trending_date', 'category_name']  count_['trending_date', 'category_name']\n",
       "0         (01/2018, News & Politics)                                        29\n",
       "1         (02/2018, News & Politics)                                        28\n",
       "2         (03/2018, News & Politics)                                        31\n",
       "3         (04/2018, News & Politics)                                        24\n",
       "4         (05/2018, News & Politics)                                        31\n",
       "5           (06/2018, Entertainment)                                        13\n",
       "6         (06/2018, News & Politics)                                         1\n",
       "7           (11/2017, Entertainment)                                        17\n",
       "8                   (12/2017, Shows)                                        21\n",
       "9           (12/2017, Entertainment)                                        10"
      ]
     },
     "execution_count": 325,
     "metadata": {},
     "output_type": "execute_result"
    }
   ],
   "source": [
    "# Filter all videos of the trending owner per month\n",
    "all_video_of_trending_owner = caVideo.merge(\n",
    "    most_trending_owner_per_month[['trending_date', 'channel_title']], \n",
    "    on=['trending_date', 'channel_title']\n",
    ")\n",
    "\n",
    "type_of_trending_video_each_month = count_unique_records(all_video_of_trending_owner.groupby(['trending_date']), ['trending_date', 'category_name'])\n",
    "\n",
    "type_of_trending_video_each_month"
   ]
  },
  {
   "cell_type": "code",
   "execution_count": 326,
   "metadata": {},
   "outputs": [
    {
     "name": "stdout",
     "output_type": "stream",
     "text": [
      "                 01/2018  02/2018  03/2018  04/2018  05/2018  06/2018  \\\n",
      "News & Politics     29.0     28.0     31.0     24.0     31.0      1.0   \n",
      "Entertainment        NaN      NaN      NaN      NaN      NaN     13.0   \n",
      "Shows                NaN      NaN      NaN      NaN      NaN      NaN   \n",
      "\n",
      "                 11/2017  12/2017  \n",
      "News & Politics      NaN      NaN  \n",
      "Entertainment       17.0     10.0  \n",
      "Shows                NaN     21.0  \n"
     ]
    }
   ],
   "source": [
    "result_dict = {}\n",
    "\n",
    "# Iterate through each row to build the dictionary\n",
    "for _, row in type_of_trending_video_each_month.iterrows():\n",
    "    # Extract the date and category from the tuple\n",
    "    trending_date, category_name = row[\"['trending_date', 'category_name']\"]\n",
    "    count = row[\"count_['trending_date', 'category_name']\"]\n",
    "\n",
    "    # Check if the date is already in the dictionary, if not, initialize it\n",
    "    if trending_date not in result_dict:\n",
    "        result_dict[trending_date] = {}\n",
    "    \n",
    "    # Add the category and count to the dictionary\n",
    "    result_dict[trending_date][category_name] = count\n",
    "\n",
    "# Print the final dictionary\n",
    "result_dict = pd.DataFrame(result_dict)\n",
    "\n",
    "print(result_dict)"
   ]
  },
  {
   "cell_type": "code",
   "execution_count": 327,
   "metadata": {},
   "outputs": [
    {
     "data": {
      "image/png": "[encoded data removed]",
      "text/plain": [
       "<Figure size 1000x600 with 1 Axes>"
      ]
     },
     "metadata": {},
     "output_type": "display_data"
    }
   ],
   "source": [
    "# Plot stacked bar chart\n",
    "fig, ax = plt.subplots(figsize=(10, 6))\n",
    "\n",
    "# Iterate over categories to stack the bars\n",
    "for category in result_dict.index:\n",
    "    ax.bar(\n",
    "        result_dict.columns,  # Dates (trending_date)\n",
    "        result_dict.loc[category],  # Counts for the category\n",
    "        label=category,  # Add category to legend\n",
    "        bottom=result_dict.loc[:category].sum(axis=0) - result_dict.loc[category],  # Stack from previous totals\n",
    "    )\n",
    "\n",
    "# Rotate x-axis labels for better readability\n",
    "plt.xticks(rotation=90)\n",
    "\n",
    "# Add labels and title\n",
    "plt.title('Video Categories by Trending Date')\n",
    "plt.xlabel('Trending Date')\n",
    "plt.ylabel('Count of Videos')\n",
    "\n",
    "# Add a legend to indicate the meaning of colors\n",
    "plt.legend(title=\"Categories\", bbox_to_anchor=(1.05, 1), loc='upper left')\n",
    "\n",
    "# Display the plot\n",
    "plt.tight_layout()\n",
    "plt.show()\n"
   ]
  },
  {
   "cell_type": "markdown",
   "metadata": {},
   "source": [
    "In the Canada country:\n",
    "- In the last period of 2017, **Good Mythical Morning** and **Vikatan TV** respectively are the channel owning the most videos in the Youtube's trending in 11/2017 and 12/2017.\n",
    "- The channel **The Young Turks** is the channel has the highest number of trending videos on Youtube in 01/2018.\n",
    "- The channel **CNN** stands on top with the highest number of trending videos on Youtube from 02/2018 to 05/2018.\n",
    "- The channel **Alhayah TV Network** has over 10 videos which enter the trending board on Youtube in 06/2018.\n",
    "\n",
    "Almost videos comes to trending Youtube's board from **The Young Turks** (in 01/2018) and **CNN** (from 02/2018 to 05/2018) are the ***News & Politics*** topic.\n",
    "- We can predict that both are the ***News & Politics*** channel.\n",
    "- People tend to watch the videos related to ***News & Politics*** from these channels. \n",
    "\n",
    "Almost videos comes to trending Youtube's board from **The Young Turks** (in 01/2018) and **CNN** (from 02/2018 to 05/2018) are the ***News & Politics*** topic.\n",
    "- We can predict that both are the ***News & Politics*** channel.\n",
    "- People tend to watch the videos related to ***News & Politics*** from these channels. "
   ]
  }
 ],
 "metadata": {
  "kernelspec": {
   "display_name": "Python 3",
   "language": "python",
   "name": "python3"
  },
  "language_info": {
   "codemirror_mode": {
    "name": "ipython",
    "version": 3
   },
   "file_extension": ".py",
   "mimetype": "text/x-python",
   "name": "python",
   "nbconvert_exporter": "python",
   "pygments_lexer": "ipython3",
   "version": "3.13.0"
  }
 },
 "nbformat": 4,
 "nbformat_minor": 2
}
